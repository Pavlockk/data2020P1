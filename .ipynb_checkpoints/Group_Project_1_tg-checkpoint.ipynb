{
 "cells": [
  {
   "cell_type": "code",
   "execution_count": 1,
   "metadata": {},
   "outputs": [],
   "source": [
    "import numpy as np\n",
    "import pandas as pd\n",
    "import matplotlib.pyplot as plt\n",
    "import requests\n",
    "from scipy import stats as st\n",
    "from census import Census\n",
    "from config import api_key\n",
    "c = Census(api_key, year=2017)\n",
    "#!pip install census\n",
    "Medicare_file = \"medicare_charges.csv\""
   ]
  },
  {
   "cell_type": "code",
   "execution_count": null,
   "metadata": {},
   "outputs": [],
   "source": [
    "census_data = c.acs5.get((\"NAME\", \"B19013_001E\", \n",
    "                          \"B01003_001E\", \n",
    "                          \"B01002_001E\",\n",
    "                          \"B19301_001E\",\n",
    "                          \"B17001_002E\",\n",
    "                          \"B23025_005E\",\n",
    "                         \"B25077_001E\",\n",
    "                         \"B15003_022E\"), {'for': 'zip code tabulation area:*'})\n",
    "\n",
    "# Convert to DataFrame\n",
    "census_pd = pd.DataFrame(census_data)\n",
    "\n",
    "# Column Reordering\n",
    "census_pd = census_pd.rename(columns={\"B01003_001E\": \"Population\",\n",
    "                                      \"B01002_001E\": \"Median Age\",\n",
    "                                      \"B19013_001E\": \"Household Income\",\n",
    "                                      \"B19301_001E\": \"Per Capita Income\",\n",
    "                                      \"B17001_002E\": \"Poverty Count\",\n",
    "                                      \"B23025_005E\": \"Unemployment Count\",\n",
    "                                      \"B25077_001E\": \"Median Home Value\",\n",
    "                                      \"B15003_022E\": \"Bachelor Count\",\n",
    "                                      \"NAME\": \"Name\", \"zip code tabulation area\": \"Zip Code\"})\n",
    "Census_Cleaned = census_pd[[\"Population\",\n",
    "                            \"Median Age\",\n",
    "                            \"Per Capita Income\",\n",
    "                            \"Zip Code\"]]\n",
    "Census_Cleaned = Census_Cleaned.dropna()\n",
    "Census_Cleaned.head(10)"
   ]
  },
  {
   "cell_type": "code",
   "execution_count": null,
   "metadata": {},
   "outputs": [],
   "source": []
  },
  {
   "cell_type": "code",
   "execution_count": null,
   "metadata": {},
   "outputs": [],
   "source": [
    "print(len(Census_Cleaned[\"Zip Code\"]))\n"
   ]
  },
  {
   "cell_type": "code",
   "execution_count": null,
   "metadata": {},
   "outputs": [],
   "source": [
    "Medicare_Cost_df = pd.read_csv(Medicare_file)\n",
    "Medicare_Cost_Cleaned = Medicare_Cost_df[[\"Provider Zip Code\",\n",
    "                                          \"Provider State\", \n",
    "                                          \"DRG Definition\", \n",
    "                                          \"Average Total Payments\"]]\n",
    "Medicare_Cost_Cleaned = Medicare_Cost_Cleaned.rename(columns = {\"Provider Zip Code\":\"Zip Code\",\n",
    "                                                               \"Provider State\":\"State\",\n",
    "                                                               \"DRG Definition\":\"Procedure\",\n",
    "                                                               \"Average Total Payments\": \"Cost\"})\n",
    "Medicare_Cost_df.head()\n",
    "#print(len(Medicare_Cost_df))"
   ]
  },
  {
   "cell_type": "code",
   "execution_count": null,
   "metadata": {},
   "outputs": [],
   "source": [
    "Medicare_Cost_Cleaned = Medicare_Cost_Cleaned[Medicare_Cost_Cleaned.State == \"CA\"]\n",
    "Medicare_Cost_871 = Medicare_Cost_Cleaned[Medicare_Cost_Cleaned.Procedure == \"871 - SEPTICEMIA OR SEVERE SEPSIS W/O MV >96 HOURS W MCC\"]\n",
    "Medicare_Cost_871 = Medicare_Cost_871.groupby(\"Zip Code\").mean()\n",
    "Medicare_Cost_871[\"Zip Code\"] = Medicare_Cost_871.index\n",
    "#Medicare_Cost_871reset_index(drop = True , inplace = True)\n",
    "\n",
    "\n",
    "Medicare_Cost_Total = Medicare_Cost_871.rename(columns = {\"Cost\":\"Total Avg 871\"})\n",
    "\n",
    "#Medicare_Cost_Total[\"Total Avg 871] = Medicare_Cost_Cleaned[Medicare_Cost_Cleaned.Procedure == \"871 - SEPTICEMIA OR SEVERE SEPSIS W/O MV >96 HOURS W MCC\"].groupby(\"Zip Code\").mean()[\"Cost\"]\n",
    "Medicare_Cost_Total[\"Total Avg 291\"] = round(Medicare_Cost_Cleaned[Medicare_Cost_Cleaned.Procedure == \"291 - HEART FAILURE & SHOCK W MCC\"].groupby(\"Zip Code\").mean()[\"Cost\"], 0)\n",
    "Medicare_Cost_Total[\"Total Avg 872\"] = round(Medicare_Cost_Cleaned[Medicare_Cost_Cleaned.Procedure == \"872 - SEPTICEMIA OR SEVERE SEPSIS W/O MV >96 HOURS W/O MCC\"].groupby(\"Zip Code\").mean()[\"Cost\"], 0)\n",
    "Medicare_Cost_Total[\"Total Avg 470\"] = round(Medicare_Cost_Cleaned[Medicare_Cost_Cleaned.Procedure == \"470 - MAJOR JOINT REPLACEMENT OR REATTACHMENT OF LOWER EXTREMITY W/O MCC\"].groupby(\"Zip Code\").mean()[\"Cost\"], 0)\n",
    "Medicare_Cost_Total[\"Total Avg 392\"] = round(Medicare_Cost_Cleaned[Medicare_Cost_Cleaned.Procedure == \"392 - ESOPHAGITIS, GASTROENT & MISC DIGEST DISORDERS W/O MCC\"].groupby(\"Zip Code\").mean()[\"Cost\"], 0)\n",
    "\n",
    "Medicare_Cost_Total[\"Total Avg 871\"] = round(Medicare_Cost_Total[\"Total Avg 871\"], 0)\n",
    "\n",
    "Medicare_Cost_Total = Medicare_Cost_Total.dropna()\n",
    "Medicare_Cost_Total.reset_index(drop = True , inplace = True)\n",
    "Medicare_Cost_Total\n"
   ]
  },
  {
   "cell_type": "code",
   "execution_count": null,
   "metadata": {},
   "outputs": [],
   "source": [
    "top5 = Medicare_Cost_Cleaned.Procedure.value_counts()\n",
    "top5.head()"
   ]
  },
  {
   "cell_type": "code",
   "execution_count": null,
   "metadata": {},
   "outputs": [],
   "source": [
    "Census_Cleaned[\"Zip Code\"] = Census_Cleaned[\"Zip Code\"].astype(int)\n",
    "Medicare_Cost_Total[\"Zip Code\"] = Medicare_Cost_Total[\"Zip Code\"].astype(int)\n",
    "Data = pd.merge(Medicare_Cost_Total, Census_Cleaned, how=\"inner\", on=\"Zip Code\")\n",
    "Data = Data.drop([8])\n",
    "Data.head()"
   ]
  },
  {
   "cell_type": "code",
   "execution_count": null,
   "metadata": {},
   "outputs": [],
   "source": [
    "Data[\"Total\"] = Data[\"Total Avg 871\"] + Data[\"Total Avg 291\"] + Data[\"Total Avg 872\"] + Data[\"Total Avg 470\"] + Data[\"Total Avg 392\"]"
   ]
  },
  {
   "cell_type": "code",
   "execution_count": null,
   "metadata": {},
   "outputs": [],
   "source": [
    "def Scatter (x, y):\n",
    "    slope, intercept, r, p, std_err = st.linregress(Data[x], Data[y])\n",
    "    plt.scatter(Data[x], Data[y], marker=\"o\", color=\"blue\", alpha = 0.25)\n",
    "    plt.xlabel(x)\n",
    "    plt.title(f\"{x} compared to Average Hospital costs\")\n",
    "    plt.ylabel(\"Average Cost\")\n",
    "    PCI_Line = slope* Data[x] + intercept\n",
    "    plt.plot(Data[x], PCI_Line, \"r-\")\n",
    "    \n",
    "    \n",
    "    \n",
    "    total_y = Data.iloc[:,1]\n",
    "    total_x = Data.iloc[:,8]\n",
    "    corr = st.pearsonr(total_x, total_y)\n",
    "    #plt.annotate(f\"The r value is {round(corr[0], 2)}\", ,fontsize=15,color=\"b\")\n",
    "    #plt.annotate(f\"The p value is {round(corr[1], 2)}\",loc = \"best\",fontsize=15,color=\"b\")\n",
    "    \n",
    "    plt.show\n",
    "Scatter_Age_871 = Scatter(\"Median Age\", \"Total Avg 871\")\n",
    "plt.savefig(\"Scatter_Age_871.PNG\")"
   ]
  },
  {
   "cell_type": "code",
   "execution_count": null,
   "metadata": {},
   "outputs": [],
   "source": [
    "st.pearsonr?"
   ]
  },
  {
   "cell_type": "code",
   "execution_count": null,
   "metadata": {},
   "outputs": [],
   "source": [
    "Scatter_PCI = Scatter(\"Per Capita Income\")\n",
    "plt.savefig(\"Scatter_PCI.PNG\")"
   ]
  },
  {
   "cell_type": "code",
   "execution_count": null,
   "metadata": {},
   "outputs": [],
   "source": [
    "Scatter_Pop = Scatter(\"Population\")\n",
    "plt.savefig(\"Scatter_Pop.PNG\")"
   ]
  },
  {
   "cell_type": "code",
   "execution_count": 11,
   "metadata": {},
   "outputs": [
    {
     "data": {
      "text/plain": [
       "-46.90645115613833"
      ]
     },
     "execution_count": 11,
     "metadata": {},
     "output_type": "execute_result"
    }
   ],
   "source": [
    "slope"
   ]
  },
  {
   "cell_type": "code",
   "execution_count": 12,
   "metadata": {},
   "outputs": [],
   "source": [
    "###Scatter & Linear Regress lines for Data\n",
    "###Box Plot for Data\n",
    "###Presentation\n",
    "###Correlation Coeffecients\n",
    "###\n",
    "###"
   ]
  },
  {
   "cell_type": "code",
   "execution_count": 13,
   "metadata": {},
   "outputs": [
    {
     "name": "stdout",
     "output_type": "stream",
     "text": [
      "0.05\n"
     ]
    }
   ],
   "source": [
    "total_871proc = Data.iloc[:,1]\n",
    "median_age = Data.iloc[:,8]\n",
    "corr_871proc_age = st.pearsonr(median_age, total_871proc)\n",
    "print(round(corr_871proc_age[0],2))"
   ]
  },
  {
   "cell_type": "code",
   "execution_count": 14,
   "metadata": {},
   "outputs": [
    {
     "name": "stdout",
     "output_type": "stream",
     "text": [
      "-0.04\n"
     ]
    }
   ],
   "source": [
    "total_291proc = Data.iloc[:,3]\n",
    "median_age = Data.iloc[:,8]\n",
    "corr_291proc_age = st.pearsonr(median_age, total_291proc)\n",
    "print(round(corr_291proc_age[0],2))"
   ]
  },
  {
   "cell_type": "code",
   "execution_count": 15,
   "metadata": {},
   "outputs": [
    {
     "name": "stdout",
     "output_type": "stream",
     "text": [
      "0.02\n"
     ]
    }
   ],
   "source": [
    "total_872proc = Data.iloc[:,4]\n",
    "median_age = Data.iloc[:,8]\n",
    "corr_872proc_age = st.pearsonr(median_age, total_872proc)\n",
    "print(round(corr_872proc_age[0],2))"
   ]
  },
  {
   "cell_type": "code",
   "execution_count": 16,
   "metadata": {},
   "outputs": [
    {
     "name": "stdout",
     "output_type": "stream",
     "text": [
      "-0.08\n"
     ]
    }
   ],
   "source": [
    "total_470proc = Data.iloc[:,5]\n",
    "median_age = Data.iloc[:,8]\n",
    "corr_470proc_age = st.pearsonr(median_age, total_470proc)\n",
    "print(round(corr_470proc_age[0],2))"
   ]
  },
  {
   "cell_type": "code",
   "execution_count": 17,
   "metadata": {},
   "outputs": [
    {
     "name": "stdout",
     "output_type": "stream",
     "text": [
      "-0.24\n"
     ]
    }
   ],
   "source": [
    "total_392proc = Data.iloc[:,6]\n",
    "median_age = Data.iloc[:,8]\n",
    "corr_392proc_age = st.pearsonr(median_age, total_392proc)\n",
    "print(round(corr_392proc_age[0],2))"
   ]
  },
  {
   "cell_type": "code",
   "execution_count": 18,
   "metadata": {},
   "outputs": [
    {
     "name": "stdout",
     "output_type": "stream",
     "text": [
      "0.13\n"
     ]
    }
   ],
   "source": [
    "population = Data.iloc[:,7]\n",
    "corr_871proc_pop = st.pearsonr(population, total_871proc)\n",
    "print(round(corr_871proc_pop[0],2))"
   ]
  },
  {
   "cell_type": "code",
   "execution_count": 19,
   "metadata": {},
   "outputs": [
    {
     "name": "stdout",
     "output_type": "stream",
     "text": [
      "-0.11\n"
     ]
    }
   ],
   "source": [
    "population = Data.iloc[:,7]\n",
    "corr_291proc_pop = st.pearsonr(population, total_291proc)\n",
    "print(round(corr_291proc_pop[0],2))"
   ]
  },
  {
   "cell_type": "code",
   "execution_count": 20,
   "metadata": {},
   "outputs": [
    {
     "name": "stdout",
     "output_type": "stream",
     "text": [
      "-0.1\n"
     ]
    }
   ],
   "source": [
    "population = Data.iloc[:,7]\n",
    "corr_872proc_pop = st.pearsonr(population, total_872proc)\n",
    "print(round(corr_872proc_pop[0],2))"
   ]
  },
  {
   "cell_type": "code",
   "execution_count": 21,
   "metadata": {},
   "outputs": [
    {
     "name": "stdout",
     "output_type": "stream",
     "text": [
      "-0.16\n"
     ]
    }
   ],
   "source": [
    "population = Data.iloc[:,7]\n",
    "corr_470proc_pop = st.pearsonr(population, total_470proc)\n",
    "print(round(corr_470proc_pop[0],2))"
   ]
  },
  {
   "cell_type": "code",
   "execution_count": 22,
   "metadata": {},
   "outputs": [
    {
     "name": "stdout",
     "output_type": "stream",
     "text": [
      "-0.35\n"
     ]
    }
   ],
   "source": [
    "population = Data.iloc[:,7]\n",
    "corr_392proc_pop = st.pearsonr(population, total_392proc)\n",
    "print(round(corr_392proc_pop[0],2))"
   ]
  },
  {
   "cell_type": "code",
   "execution_count": 23,
   "metadata": {},
   "outputs": [
    {
     "name": "stdout",
     "output_type": "stream",
     "text": [
      "0.1\n"
     ]
    }
   ],
   "source": [
    "capita_income = Data.iloc[:,9]\n",
    "corr_871proc_income = st.pearsonr(capita_income, total_871proc)\n",
    "print(round(corr_871proc_income[0],2))"
   ]
  },
  {
   "cell_type": "code",
   "execution_count": 24,
   "metadata": {},
   "outputs": [
    {
     "name": "stdout",
     "output_type": "stream",
     "text": [
      "0.94\n"
     ]
    }
   ],
   "source": [
    "capita_income = Data.iloc[:,9]\n",
    "corr_291proc_income = st.pearsonr(capita_income, total_291proc)\n",
    "print(round(corr_291proc_income[0],2))"
   ]
  },
  {
   "cell_type": "code",
   "execution_count": 25,
   "metadata": {},
   "outputs": [
    {
     "name": "stdout",
     "output_type": "stream",
     "text": [
      "0.81\n"
     ]
    }
   ],
   "source": [
    "capita_income = Data.iloc[:,9]\n",
    "corr_872proc_income = st.pearsonr(capita_income, total_872proc)\n",
    "print(round(corr_872proc_income[0],2))"
   ]
  },
  {
   "cell_type": "code",
   "execution_count": 26,
   "metadata": {},
   "outputs": [
    {
     "name": "stdout",
     "output_type": "stream",
     "text": [
      "0.93\n"
     ]
    }
   ],
   "source": [
    "capita_income = Data.iloc[:,9]\n",
    "corr_470proc_income = st.pearsonr(capita_income, total_470proc)\n",
    "print(round(corr_470proc_income[0],2))"
   ]
  },
  {
   "cell_type": "code",
   "execution_count": 27,
   "metadata": {},
   "outputs": [
    {
     "data": {
      "text/plain": [
       "Ttest_indResult(statistic=21.94195270604158, pvalue=5.490917123492917e-68)"
      ]
     },
     "execution_count": 27,
     "metadata": {},
     "output_type": "execute_result"
    }
   ],
   "source": [
    "st.ttest_ind(total_871proc, median_age)"
   ]
  },
  {
   "cell_type": "code",
   "execution_count": 29,
   "metadata": {},
   "outputs": [
    {
     "data": {
      "text/plain": [
       "Ttest_indResult(statistic=701.7583053059182, pvalue=0.0)"
      ]
     },
     "execution_count": 29,
     "metadata": {},
     "output_type": "execute_result"
    }
   ],
   "source": [
    "st.ttest_ind(total_871proc, population)"
   ]
  },
  {
   "cell_type": "code",
   "execution_count": 31,
   "metadata": {},
   "outputs": [
    {
     "data": {
      "text/plain": [
       "Ttest_indResult(statistic=21.94195270604158, pvalue=5.490917123492917e-68)"
      ]
     },
     "execution_count": 31,
     "metadata": {},
     "output_type": "execute_result"
    }
   ],
   "source": [
    "st.ttest_ind(total_871proc, capita_income)"
   ]
  },
  {
   "cell_type": "code",
   "execution_count": 32,
   "metadata": {},
   "outputs": [
    {
     "data": {
      "text/plain": [
       "Ttest_indResult(statistic=-20.119937569674242, pvalue=1.4201978490176308e-60)"
      ]
     },
     "execution_count": 32,
     "metadata": {},
     "output_type": "execute_result"
    }
   ],
   "source": [
    "st.ttest_ind(total_291proc, median_age)"
   ]
  },
  {
   "cell_type": "code",
   "execution_count": 33,
   "metadata": {},
   "outputs": [
    {
     "data": {
      "text/plain": [
       "Ttest_indResult(statistic=47.853988483715476, pvalue=1.2340545340901016e-156)"
      ]
     },
     "execution_count": 33,
     "metadata": {},
     "output_type": "execute_result"
    }
   ],
   "source": [
    "st.ttest_ind(total_291proc, population)"
   ]
  },
  {
   "cell_type": "code",
   "execution_count": 34,
   "metadata": {},
   "outputs": [
    {
     "data": {
      "text/plain": [
       "Ttest_indResult(statistic=-47.38096331564146, pvalue=2.5876869984686387e-155)"
      ]
     },
     "execution_count": 34,
     "metadata": {},
     "output_type": "execute_result"
    }
   ],
   "source": [
    "st.ttest_ind(total_291proc, capita_income)"
   ]
  },
  {
   "cell_type": "code",
   "execution_count": 35,
   "metadata": {},
   "outputs": [
    {
     "data": {
      "text/plain": [
       "Ttest_indResult(statistic=-12.445216731087895, pvalue=9.656759258398062e-30)"
      ]
     },
     "execution_count": 35,
     "metadata": {},
     "output_type": "execute_result"
    }
   ],
   "source": [
    "st.ttest_ind(total_872proc, median_age)"
   ]
  },
  {
   "cell_type": "code",
   "execution_count": 36,
   "metadata": {},
   "outputs": [
    {
     "data": {
      "text/plain": [
       "Ttest_indResult(statistic=51.16093748527291, pvalue=1.2968718812604626e-165)"
      ]
     },
     "execution_count": 36,
     "metadata": {},
     "output_type": "execute_result"
    }
   ],
   "source": [
    "st.ttest_ind(total_872proc, population)"
   ]
  },
  {
   "cell_type": "code",
   "execution_count": 37,
   "metadata": {},
   "outputs": [
    {
     "data": {
      "text/plain": [
       "Ttest_indResult(statistic=-38.65617871243671, pvalue=4.244783240826556e-129)"
      ]
     },
     "execution_count": 37,
     "metadata": {},
     "output_type": "execute_result"
    }
   ],
   "source": [
    "st.ttest_ind(total_872proc, capita_income)"
   ]
  },
  {
   "cell_type": "code",
   "execution_count": 38,
   "metadata": {},
   "outputs": [
    {
     "data": {
      "text/plain": [
       "Ttest_indResult(statistic=-22.13357999898727, pvalue=9.222364151131744e-69)"
      ]
     },
     "execution_count": 38,
     "metadata": {},
     "output_type": "execute_result"
    }
   ],
   "source": [
    "st.ttest_ind(total_470proc, median_age)"
   ]
  },
  {
   "cell_type": "code",
   "execution_count": 39,
   "metadata": {},
   "outputs": [
    {
     "data": {
      "text/plain": [
       "Ttest_indResult(statistic=48.75223491670109, pvalue=4.054307173430851e-159)"
      ]
     },
     "execution_count": 39,
     "metadata": {},
     "output_type": "execute_result"
    }
   ],
   "source": [
    "st.ttest_ind(total_470proc, population)"
   ]
  },
  {
   "cell_type": "code",
   "execution_count": 40,
   "metadata": {},
   "outputs": [
    {
     "data": {
      "text/plain": [
       "Ttest_indResult(statistic=-49.62913896902466, pvalue=1.6444441976170682e-161)"
      ]
     },
     "execution_count": 40,
     "metadata": {},
     "output_type": "execute_result"
    }
   ],
   "source": [
    "st.ttest_ind(total_470proc, capita_income)"
   ]
  },
  {
   "cell_type": "code",
   "execution_count": null,
   "metadata": {},
   "outputs": [],
   "source": []
  }
 ],
 "metadata": {
  "kernelspec": {
   "display_name": "Python 3",
   "language": "python",
   "name": "python3"
  },
  "language_info": {
   "codemirror_mode": {
    "name": "ipython",
    "version": 3
   },
   "file_extension": ".py",
   "mimetype": "text/x-python",
   "name": "python",
   "nbconvert_exporter": "python",
   "pygments_lexer": "ipython3",
   "version": "3.7.6"
  }
 },
 "nbformat": 4,
 "nbformat_minor": 4
}
