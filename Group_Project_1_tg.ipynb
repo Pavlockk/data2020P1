{
 "cells": [
  {
   "cell_type": "code",
   "execution_count": 41,
   "metadata": {},
   "outputs": [],
   "source": [
    "import numpy as np\n",
    "import pandas as pd\n",
    "import matplotlib.pyplot as plt\n",
    "import requests\n",
    "from scipy import stats as st\n",
    "from census import Census\n",
    "from config import api_key\n",
    "c = Census(api_key, year=2017)\n",
    "#!pip install census\n",
    "Medicare_file = \"medicare_charges.csv\""
   ]
  },
  {
   "cell_type": "code",
   "execution_count": 42,
   "metadata": {},
   "outputs": [
    {
     "data": {
      "text/html": [
       "<div>\n",
       "<style scoped>\n",
       "    .dataframe tbody tr th:only-of-type {\n",
       "        vertical-align: middle;\n",
       "    }\n",
       "\n",
       "    .dataframe tbody tr th {\n",
       "        vertical-align: top;\n",
       "    }\n",
       "\n",
       "    .dataframe thead th {\n",
       "        text-align: right;\n",
       "    }\n",
       "</style>\n",
       "<table border=\"1\" class=\"dataframe\">\n",
       "  <thead>\n",
       "    <tr style=\"text-align: right;\">\n",
       "      <th></th>\n",
       "      <th>Population</th>\n",
       "      <th>Median Age</th>\n",
       "      <th>Per Capita Income</th>\n",
       "      <th>Zip Code</th>\n",
       "    </tr>\n",
       "  </thead>\n",
       "  <tbody>\n",
       "    <tr>\n",
       "      <th>0</th>\n",
       "      <td>17599.0</td>\n",
       "      <td>38.9</td>\n",
       "      <td>7041.0</td>\n",
       "      <td>00601</td>\n",
       "    </tr>\n",
       "    <tr>\n",
       "      <th>1</th>\n",
       "      <td>39209.0</td>\n",
       "      <td>40.9</td>\n",
       "      <td>8978.0</td>\n",
       "      <td>00602</td>\n",
       "    </tr>\n",
       "    <tr>\n",
       "      <th>2</th>\n",
       "      <td>50135.0</td>\n",
       "      <td>40.4</td>\n",
       "      <td>10897.0</td>\n",
       "      <td>00603</td>\n",
       "    </tr>\n",
       "    <tr>\n",
       "      <th>3</th>\n",
       "      <td>6304.0</td>\n",
       "      <td>42.8</td>\n",
       "      <td>5960.0</td>\n",
       "      <td>00606</td>\n",
       "    </tr>\n",
       "    <tr>\n",
       "      <th>4</th>\n",
       "      <td>27590.0</td>\n",
       "      <td>41.4</td>\n",
       "      <td>9266.0</td>\n",
       "      <td>00610</td>\n",
       "    </tr>\n",
       "    <tr>\n",
       "      <th>5</th>\n",
       "      <td>62566.0</td>\n",
       "      <td>41.4</td>\n",
       "      <td>10283.0</td>\n",
       "      <td>00612</td>\n",
       "    </tr>\n",
       "    <tr>\n",
       "      <th>6</th>\n",
       "      <td>10687.0</td>\n",
       "      <td>43.7</td>\n",
       "      <td>9002.0</td>\n",
       "      <td>00616</td>\n",
       "    </tr>\n",
       "    <tr>\n",
       "      <th>7</th>\n",
       "      <td>24508.0</td>\n",
       "      <td>38.7</td>\n",
       "      <td>8762.0</td>\n",
       "      <td>00617</td>\n",
       "    </tr>\n",
       "    <tr>\n",
       "      <th>8</th>\n",
       "      <td>7405.0</td>\n",
       "      <td>48.4</td>\n",
       "      <td>11935.0</td>\n",
       "      <td>00622</td>\n",
       "    </tr>\n",
       "    <tr>\n",
       "      <th>9</th>\n",
       "      <td>42321.0</td>\n",
       "      <td>41.3</td>\n",
       "      <td>9101.0</td>\n",
       "      <td>00623</td>\n",
       "    </tr>\n",
       "  </tbody>\n",
       "</table>\n",
       "</div>"
      ],
      "text/plain": [
       "   Population  Median Age  Per Capita Income Zip Code\n",
       "0     17599.0        38.9             7041.0    00601\n",
       "1     39209.0        40.9             8978.0    00602\n",
       "2     50135.0        40.4            10897.0    00603\n",
       "3      6304.0        42.8             5960.0    00606\n",
       "4     27590.0        41.4             9266.0    00610\n",
       "5     62566.0        41.4            10283.0    00612\n",
       "6     10687.0        43.7             9002.0    00616\n",
       "7     24508.0        38.7             8762.0    00617\n",
       "8      7405.0        48.4            11935.0    00622\n",
       "9     42321.0        41.3             9101.0    00623"
      ]
     },
     "execution_count": 42,
     "metadata": {},
     "output_type": "execute_result"
    }
   ],
   "source": [
    "census_data = c.acs5.get((\"NAME\", \"B19013_001E\", \n",
    "                          \"B01003_001E\", \n",
    "                          \"B01002_001E\",\n",
    "                          \"B19301_001E\",\n",
    "                          \"B17001_002E\",\n",
    "                          \"B23025_005E\",\n",
    "                         \"B25077_001E\",\n",
    "                         \"B15003_022E\"), {'for': 'zip code tabulation area:*'})\n",
    "\n",
    "# Convert to DataFrame\n",
    "census_pd = pd.DataFrame(census_data)\n",
    "\n",
    "# Column Reordering\n",
    "census_pd = census_pd.rename(columns={\"B01003_001E\": \"Population\",\n",
    "                                      \"B01002_001E\": \"Median Age\",\n",
    "                                      \"B19013_001E\": \"Household Income\",\n",
    "                                      \"B19301_001E\": \"Per Capita Income\",\n",
    "                                      \"B17001_002E\": \"Poverty Count\",\n",
    "                                      \"B23025_005E\": \"Unemployment Count\",\n",
    "                                      \"B25077_001E\": \"Median Home Value\",\n",
    "                                      \"B15003_022E\": \"Bachelor Count\",\n",
    "                                      \"NAME\": \"Name\", \"zip code tabulation area\": \"Zip Code\"})\n",
    "Census_Cleaned = census_pd[[\"Population\",\n",
    "                            \"Median Age\",\n",
    "                            \"Per Capita Income\",\n",
    "                            \"Zip Code\"]]\n",
    "Census_Cleaned = Census_Cleaned.dropna()\n",
    "Census_Cleaned.head(10)"
   ]
  },
  {
   "cell_type": "code",
   "execution_count": null,
   "metadata": {},
   "outputs": [],
   "source": []
  },
  {
   "cell_type": "code",
   "execution_count": 43,
   "metadata": {},
   "outputs": [
    {
     "name": "stdout",
     "output_type": "stream",
     "text": [
      "32795\n"
     ]
    }
   ],
   "source": [
    "print(len(Census_Cleaned[\"Zip Code\"]))\n"
   ]
  },
  {
   "cell_type": "code",
   "execution_count": 44,
   "metadata": {},
   "outputs": [
    {
     "data": {
      "text/html": [
       "<div>\n",
       "<style scoped>\n",
       "    .dataframe tbody tr th:only-of-type {\n",
       "        vertical-align: middle;\n",
       "    }\n",
       "\n",
       "    .dataframe tbody tr th {\n",
       "        vertical-align: top;\n",
       "    }\n",
       "\n",
       "    .dataframe thead th {\n",
       "        text-align: right;\n",
       "    }\n",
       "</style>\n",
       "<table border=\"1\" class=\"dataframe\">\n",
       "  <thead>\n",
       "    <tr style=\"text-align: right;\">\n",
       "      <th></th>\n",
       "      <th>DRG Definition</th>\n",
       "      <th>Provider Id</th>\n",
       "      <th>Provider Name</th>\n",
       "      <th>Provider Street Address</th>\n",
       "      <th>Provider City</th>\n",
       "      <th>Provider State</th>\n",
       "      <th>Provider Zip Code</th>\n",
       "      <th>Hospital Referral Region (HRR) Description</th>\n",
       "      <th>Total Discharges</th>\n",
       "      <th>Average Covered Charges</th>\n",
       "      <th>Average Total Payments</th>\n",
       "      <th>Average Medicare Payments</th>\n",
       "    </tr>\n",
       "  </thead>\n",
       "  <tbody>\n",
       "    <tr>\n",
       "      <th>0</th>\n",
       "      <td>023 - CRANIOTOMY W MAJOR DEVICE IMPLANT OR ACU...</td>\n",
       "      <td>10001</td>\n",
       "      <td>SOUTHEAST ALABAMA MEDICAL CENTER</td>\n",
       "      <td>1108 ROSS CLARK CIRCLE</td>\n",
       "      <td>DOTHAN</td>\n",
       "      <td>AL</td>\n",
       "      <td>36301</td>\n",
       "      <td>AL - Dothan</td>\n",
       "      <td>28</td>\n",
       "      <td>117117.78570</td>\n",
       "      <td>25823.714290</td>\n",
       "      <td>24057.392860</td>\n",
       "    </tr>\n",
       "    <tr>\n",
       "      <th>1</th>\n",
       "      <td>025 - CRANIOTOMY &amp; ENDOVASCULAR INTRACRANIAL P...</td>\n",
       "      <td>10001</td>\n",
       "      <td>SOUTHEAST ALABAMA MEDICAL CENTER</td>\n",
       "      <td>1108 ROSS CLARK CIRCLE</td>\n",
       "      <td>DOTHAN</td>\n",
       "      <td>AL</td>\n",
       "      <td>36301</td>\n",
       "      <td>AL - Dothan</td>\n",
       "      <td>32</td>\n",
       "      <td>98357.56250</td>\n",
       "      <td>20688.343750</td>\n",
       "      <td>19791.406250</td>\n",
       "    </tr>\n",
       "    <tr>\n",
       "      <th>2</th>\n",
       "      <td>027 - CRANIOTOMY &amp; ENDOVASCULAR INTRACRANIAL P...</td>\n",
       "      <td>10001</td>\n",
       "      <td>SOUTHEAST ALABAMA MEDICAL CENTER</td>\n",
       "      <td>1108 ROSS CLARK CIRCLE</td>\n",
       "      <td>DOTHAN</td>\n",
       "      <td>AL</td>\n",
       "      <td>36301</td>\n",
       "      <td>AL - Dothan</td>\n",
       "      <td>11</td>\n",
       "      <td>69153.54546</td>\n",
       "      <td>11811.181820</td>\n",
       "      <td>8194.363636</td>\n",
       "    </tr>\n",
       "    <tr>\n",
       "      <th>3</th>\n",
       "      <td>037 - EXTRACRANIAL PROCEDURES W MCC</td>\n",
       "      <td>10001</td>\n",
       "      <td>SOUTHEAST ALABAMA MEDICAL CENTER</td>\n",
       "      <td>1108 ROSS CLARK CIRCLE</td>\n",
       "      <td>DOTHAN</td>\n",
       "      <td>AL</td>\n",
       "      <td>36301</td>\n",
       "      <td>AL - Dothan</td>\n",
       "      <td>12</td>\n",
       "      <td>100427.33330</td>\n",
       "      <td>19134.000000</td>\n",
       "      <td>18154.000000</td>\n",
       "    </tr>\n",
       "    <tr>\n",
       "      <th>4</th>\n",
       "      <td>038 - EXTRACRANIAL PROCEDURES W CC</td>\n",
       "      <td>10001</td>\n",
       "      <td>SOUTHEAST ALABAMA MEDICAL CENTER</td>\n",
       "      <td>1108 ROSS CLARK CIRCLE</td>\n",
       "      <td>DOTHAN</td>\n",
       "      <td>AL</td>\n",
       "      <td>36301</td>\n",
       "      <td>AL - Dothan</td>\n",
       "      <td>17</td>\n",
       "      <td>58199.47059</td>\n",
       "      <td>8519.470588</td>\n",
       "      <td>6714.882353</td>\n",
       "    </tr>\n",
       "  </tbody>\n",
       "</table>\n",
       "</div>"
      ],
      "text/plain": [
       "                                      DRG Definition  Provider Id  \\\n",
       "0  023 - CRANIOTOMY W MAJOR DEVICE IMPLANT OR ACU...        10001   \n",
       "1  025 - CRANIOTOMY & ENDOVASCULAR INTRACRANIAL P...        10001   \n",
       "2  027 - CRANIOTOMY & ENDOVASCULAR INTRACRANIAL P...        10001   \n",
       "3                037 - EXTRACRANIAL PROCEDURES W MCC        10001   \n",
       "4                 038 - EXTRACRANIAL PROCEDURES W CC        10001   \n",
       "\n",
       "                      Provider Name Provider Street Address Provider City  \\\n",
       "0  SOUTHEAST ALABAMA MEDICAL CENTER  1108 ROSS CLARK CIRCLE        DOTHAN   \n",
       "1  SOUTHEAST ALABAMA MEDICAL CENTER  1108 ROSS CLARK CIRCLE        DOTHAN   \n",
       "2  SOUTHEAST ALABAMA MEDICAL CENTER  1108 ROSS CLARK CIRCLE        DOTHAN   \n",
       "3  SOUTHEAST ALABAMA MEDICAL CENTER  1108 ROSS CLARK CIRCLE        DOTHAN   \n",
       "4  SOUTHEAST ALABAMA MEDICAL CENTER  1108 ROSS CLARK CIRCLE        DOTHAN   \n",
       "\n",
       "  Provider State  Provider Zip Code  \\\n",
       "0             AL              36301   \n",
       "1             AL              36301   \n",
       "2             AL              36301   \n",
       "3             AL              36301   \n",
       "4             AL              36301   \n",
       "\n",
       "  Hospital Referral Region (HRR) Description  Total Discharges  \\\n",
       "0                                AL - Dothan                28   \n",
       "1                                AL - Dothan                32   \n",
       "2                                AL - Dothan                11   \n",
       "3                                AL - Dothan                12   \n",
       "4                                AL - Dothan                17   \n",
       "\n",
       "   Average Covered Charges  Average Total Payments  Average Medicare Payments  \n",
       "0             117117.78570            25823.714290               24057.392860  \n",
       "1              98357.56250            20688.343750               19791.406250  \n",
       "2              69153.54546            11811.181820                8194.363636  \n",
       "3             100427.33330            19134.000000               18154.000000  \n",
       "4              58199.47059             8519.470588                6714.882353  "
      ]
     },
     "execution_count": 44,
     "metadata": {},
     "output_type": "execute_result"
    }
   ],
   "source": [
    "Medicare_Cost_df = pd.read_csv(Medicare_file)\n",
    "Medicare_Cost_Cleaned = Medicare_Cost_df[[\"Provider Zip Code\",\n",
    "                                          \"Provider State\", \n",
    "                                          \"DRG Definition\", \n",
    "                                          \"Average Total Payments\"]]\n",
    "Medicare_Cost_Cleaned = Medicare_Cost_Cleaned.rename(columns = {\"Provider Zip Code\":\"Zip Code\",\n",
    "                                                               \"Provider State\":\"State\",\n",
    "                                                               \"DRG Definition\":\"Procedure\",\n",
    "                                                               \"Average Total Payments\": \"Cost\"})\n",
    "Medicare_Cost_df.head()\n",
    "#print(len(Medicare_Cost_df))"
   ]
  },
  {
   "cell_type": "code",
   "execution_count": 45,
   "metadata": {},
   "outputs": [
    {
     "data": {
      "text/html": [
       "<div>\n",
       "<style scoped>\n",
       "    .dataframe tbody tr th:only-of-type {\n",
       "        vertical-align: middle;\n",
       "    }\n",
       "\n",
       "    .dataframe tbody tr th {\n",
       "        vertical-align: top;\n",
       "    }\n",
       "\n",
       "    .dataframe thead th {\n",
       "        text-align: right;\n",
       "    }\n",
       "</style>\n",
       "<table border=\"1\" class=\"dataframe\">\n",
       "  <thead>\n",
       "    <tr style=\"text-align: right;\">\n",
       "      <th></th>\n",
       "      <th>Total Avg 817</th>\n",
       "      <th>Zip Code</th>\n",
       "      <th>Total Avg 291</th>\n",
       "      <th>Total Avg 872</th>\n",
       "      <th>Total Avg 470</th>\n",
       "      <th>Total Avg 392</th>\n",
       "    </tr>\n",
       "  </thead>\n",
       "  <tbody>\n",
       "    <tr>\n",
       "      <th>0</th>\n",
       "      <td>22185.804120</td>\n",
       "      <td>90015</td>\n",
       "      <td>19343.0</td>\n",
       "      <td>15902.0</td>\n",
       "      <td>24933.0</td>\n",
       "      <td>13643.0</td>\n",
       "    </tr>\n",
       "    <tr>\n",
       "      <th>1</th>\n",
       "      <td>16186.630820</td>\n",
       "      <td>90017</td>\n",
       "      <td>13153.0</td>\n",
       "      <td>9645.0</td>\n",
       "      <td>18058.0</td>\n",
       "      <td>7357.0</td>\n",
       "    </tr>\n",
       "    <tr>\n",
       "      <th>2</th>\n",
       "      <td>17438.370855</td>\n",
       "      <td>90027</td>\n",
       "      <td>13887.0</td>\n",
       "      <td>9169.0</td>\n",
       "      <td>19586.0</td>\n",
       "      <td>8709.0</td>\n",
       "    </tr>\n",
       "    <tr>\n",
       "      <th>3</th>\n",
       "      <td>15827.859870</td>\n",
       "      <td>90028</td>\n",
       "      <td>12988.0</td>\n",
       "      <td>9306.0</td>\n",
       "      <td>17425.0</td>\n",
       "      <td>7162.0</td>\n",
       "    </tr>\n",
       "    <tr>\n",
       "      <th>4</th>\n",
       "      <td>26462.555853</td>\n",
       "      <td>90033</td>\n",
       "      <td>23416.0</td>\n",
       "      <td>16866.0</td>\n",
       "      <td>21003.0</td>\n",
       "      <td>14192.0</td>\n",
       "    </tr>\n",
       "    <tr>\n",
       "      <th>...</th>\n",
       "      <td>...</td>\n",
       "      <td>...</td>\n",
       "      <td>...</td>\n",
       "      <td>...</td>\n",
       "      <td>...</td>\n",
       "      <td>...</td>\n",
       "    </tr>\n",
       "    <tr>\n",
       "      <th>180</th>\n",
       "      <td>13586.240580</td>\n",
       "      <td>95966</td>\n",
       "      <td>11342.0</td>\n",
       "      <td>8155.0</td>\n",
       "      <td>15967.0</td>\n",
       "      <td>6020.0</td>\n",
       "    </tr>\n",
       "    <tr>\n",
       "      <th>181</th>\n",
       "      <td>13511.659690</td>\n",
       "      <td>95969</td>\n",
       "      <td>11305.0</td>\n",
       "      <td>8972.0</td>\n",
       "      <td>15886.0</td>\n",
       "      <td>5872.0</td>\n",
       "    </tr>\n",
       "    <tr>\n",
       "      <th>182</th>\n",
       "      <td>14965.846885</td>\n",
       "      <td>96001</td>\n",
       "      <td>12310.0</td>\n",
       "      <td>8846.0</td>\n",
       "      <td>16913.0</td>\n",
       "      <td>6521.0</td>\n",
       "    </tr>\n",
       "    <tr>\n",
       "      <th>183</th>\n",
       "      <td>16008.925930</td>\n",
       "      <td>96080</td>\n",
       "      <td>13438.0</td>\n",
       "      <td>9235.0</td>\n",
       "      <td>18595.0</td>\n",
       "      <td>8787.0</td>\n",
       "    </tr>\n",
       "    <tr>\n",
       "      <th>184</th>\n",
       "      <td>20814.500000</td>\n",
       "      <td>96150</td>\n",
       "      <td>17879.0</td>\n",
       "      <td>12177.0</td>\n",
       "      <td>28324.0</td>\n",
       "      <td>8762.0</td>\n",
       "    </tr>\n",
       "  </tbody>\n",
       "</table>\n",
       "<p>185 rows × 6 columns</p>\n",
       "</div>"
      ],
      "text/plain": [
       "     Total Avg 817  Zip Code  Total Avg 291  Total Avg 872  Total Avg 470  \\\n",
       "0     22185.804120     90015        19343.0        15902.0        24933.0   \n",
       "1     16186.630820     90017        13153.0         9645.0        18058.0   \n",
       "2     17438.370855     90027        13887.0         9169.0        19586.0   \n",
       "3     15827.859870     90028        12988.0         9306.0        17425.0   \n",
       "4     26462.555853     90033        23416.0        16866.0        21003.0   \n",
       "..             ...       ...            ...            ...            ...   \n",
       "180   13586.240580     95966        11342.0         8155.0        15967.0   \n",
       "181   13511.659690     95969        11305.0         8972.0        15886.0   \n",
       "182   14965.846885     96001        12310.0         8846.0        16913.0   \n",
       "183   16008.925930     96080        13438.0         9235.0        18595.0   \n",
       "184   20814.500000     96150        17879.0        12177.0        28324.0   \n",
       "\n",
       "     Total Avg 392  \n",
       "0          13643.0  \n",
       "1           7357.0  \n",
       "2           8709.0  \n",
       "3           7162.0  \n",
       "4          14192.0  \n",
       "..             ...  \n",
       "180         6020.0  \n",
       "181         5872.0  \n",
       "182         6521.0  \n",
       "183         8787.0  \n",
       "184         8762.0  \n",
       "\n",
       "[185 rows x 6 columns]"
      ]
     },
     "execution_count": 45,
     "metadata": {},
     "output_type": "execute_result"
    }
   ],
   "source": [
    "Medicare_Cost_Cleaned = Medicare_Cost_Cleaned[Medicare_Cost_Cleaned.State == \"CA\"]\n",
    "Medicare_Cost_817 = Medicare_Cost_Cleaned[Medicare_Cost_Cleaned.Procedure == \"871 - SEPTICEMIA OR SEVERE SEPSIS W/O MV >96 HOURS W MCC\"]\n",
    "Medicare_Cost_817 = Medicare_Cost_817.groupby(\"Zip Code\").mean()\n",
    "Medicare_Cost_817[\"Zip Code\"] = Medicare_Cost_817.index\n",
    "#Medicare_Cost_817.reset_index(drop = True , inplace = True)\n",
    "\n",
    "\n",
    "Medicare_Cost_Total = Medicare_Cost_817.rename(columns = {\"Cost\":\"Total Avg 817\"})\n",
    "\n",
    "#Medicare_Cost_Total[\"Total Avg 817\"] = Medicare_Cost_Cleaned[Medicare_Cost_Cleaned.Procedure == \"871 - SEPTICEMIA OR SEVERE SEPSIS W/O MV >96 HOURS W MCC\"].groupby(\"Zip Code\").mean()[\"Cost\"]\n",
    "Medicare_Cost_Total[\"Total Avg 291\"] = round(Medicare_Cost_Cleaned[Medicare_Cost_Cleaned.Procedure == \"291 - HEART FAILURE & SHOCK W MCC\"].groupby(\"Zip Code\").mean()[\"Cost\"], 0)\n",
    "Medicare_Cost_Total[\"Total Avg 872\"] = round(Medicare_Cost_Cleaned[Medicare_Cost_Cleaned.Procedure == \"872 - SEPTICEMIA OR SEVERE SEPSIS W/O MV >96 HOURS W/O MCC\"].groupby(\"Zip Code\").mean()[\"Cost\"], 0)\n",
    "Medicare_Cost_Total[\"Total Avg 470\"] = round(Medicare_Cost_Cleaned[Medicare_Cost_Cleaned.Procedure == \"470 - MAJOR JOINT REPLACEMENT OR REATTACHMENT OF LOWER EXTREMITY W/O MCC\"].groupby(\"Zip Code\").mean()[\"Cost\"], 0)\n",
    "Medicare_Cost_Total[\"Total Avg 392\"] = round(Medicare_Cost_Cleaned[Medicare_Cost_Cleaned.Procedure == \"392 - ESOPHAGITIS, GASTROENT & MISC DIGEST DISORDERS W/O MCC\"].groupby(\"Zip Code\").mean()[\"Cost\"], 0)\n",
    "\n",
    "Medicare_Cost_Total = Medicare_Cost_Total.dropna()\n",
    "Medicare_Cost_Total.reset_index(drop = True , inplace = True)\n",
    "Medicare_Cost_Total\n",
    "\n"
   ]
  },
  {
   "cell_type": "code",
   "execution_count": 46,
   "metadata": {},
   "outputs": [
    {
     "data": {
      "text/plain": [
       "871 - SEPTICEMIA OR SEVERE SEPSIS W/O MV >96 HOURS W MCC                    277\n",
       "291 - HEART FAILURE & SHOCK W MCC                                           260\n",
       "872 - SEPTICEMIA OR SEVERE SEPSIS W/O MV >96 HOURS W/O MCC                  258\n",
       "470 - MAJOR JOINT REPLACEMENT OR REATTACHMENT OF LOWER EXTREMITY W/O MCC    236\n",
       "392 - ESOPHAGITIS, GASTROENT & MISC DIGEST DISORDERS W/O MCC                228\n",
       "Name: Procedure, dtype: int64"
      ]
     },
     "execution_count": 46,
     "metadata": {},
     "output_type": "execute_result"
    }
   ],
   "source": [
    "top5 = Medicare_Cost_Cleaned.Procedure.value_counts()\n",
    "top5.head()"
   ]
  },
  {
   "cell_type": "code",
   "execution_count": 47,
   "metadata": {},
   "outputs": [
    {
     "data": {
      "text/html": [
       "<div>\n",
       "<style scoped>\n",
       "    .dataframe tbody tr th:only-of-type {\n",
       "        vertical-align: middle;\n",
       "    }\n",
       "\n",
       "    .dataframe tbody tr th {\n",
       "        vertical-align: top;\n",
       "    }\n",
       "\n",
       "    .dataframe thead th {\n",
       "        text-align: right;\n",
       "    }\n",
       "</style>\n",
       "<table border=\"1\" class=\"dataframe\">\n",
       "  <thead>\n",
       "    <tr style=\"text-align: right;\">\n",
       "      <th></th>\n",
       "      <th>Total Avg 817</th>\n",
       "      <th>Zip Code</th>\n",
       "      <th>Total Avg 291</th>\n",
       "      <th>Total Avg 872</th>\n",
       "      <th>Total Avg 470</th>\n",
       "      <th>Total Avg 392</th>\n",
       "      <th>Population</th>\n",
       "      <th>Median Age</th>\n",
       "      <th>Per Capita Income</th>\n",
       "    </tr>\n",
       "  </thead>\n",
       "  <tbody>\n",
       "    <tr>\n",
       "      <th>0</th>\n",
       "      <td>22186.0</td>\n",
       "      <td>90015</td>\n",
       "      <td>19343.0</td>\n",
       "      <td>15902.0</td>\n",
       "      <td>24933.0</td>\n",
       "      <td>13643.0</td>\n",
       "      <td>20187.0</td>\n",
       "      <td>32.4</td>\n",
       "      <td>31423.0</td>\n",
       "    </tr>\n",
       "    <tr>\n",
       "      <th>1</th>\n",
       "      <td>16187.0</td>\n",
       "      <td>90017</td>\n",
       "      <td>13153.0</td>\n",
       "      <td>9645.0</td>\n",
       "      <td>18058.0</td>\n",
       "      <td>7357.0</td>\n",
       "      <td>26390.0</td>\n",
       "      <td>30.8</td>\n",
       "      <td>21874.0</td>\n",
       "    </tr>\n",
       "    <tr>\n",
       "      <th>2</th>\n",
       "      <td>17438.0</td>\n",
       "      <td>90027</td>\n",
       "      <td>13887.0</td>\n",
       "      <td>9169.0</td>\n",
       "      <td>19586.0</td>\n",
       "      <td>8709.0</td>\n",
       "      <td>45616.0</td>\n",
       "      <td>38.0</td>\n",
       "      <td>46196.0</td>\n",
       "    </tr>\n",
       "    <tr>\n",
       "      <th>3</th>\n",
       "      <td>15828.0</td>\n",
       "      <td>90028</td>\n",
       "      <td>12988.0</td>\n",
       "      <td>9306.0</td>\n",
       "      <td>17425.0</td>\n",
       "      <td>7162.0</td>\n",
       "      <td>31054.0</td>\n",
       "      <td>34.4</td>\n",
       "      <td>32587.0</td>\n",
       "    </tr>\n",
       "    <tr>\n",
       "      <th>4</th>\n",
       "      <td>26463.0</td>\n",
       "      <td>90033</td>\n",
       "      <td>23416.0</td>\n",
       "      <td>16866.0</td>\n",
       "      <td>21003.0</td>\n",
       "      <td>14192.0</td>\n",
       "      <td>48841.0</td>\n",
       "      <td>30.0</td>\n",
       "      <td>13332.0</td>\n",
       "    </tr>\n",
       "  </tbody>\n",
       "</table>\n",
       "</div>"
      ],
      "text/plain": [
       "   Total Avg 817  Zip Code  Total Avg 291  Total Avg 872  Total Avg 470  \\\n",
       "0        22186.0     90015        19343.0        15902.0        24933.0   \n",
       "1        16187.0     90017        13153.0         9645.0        18058.0   \n",
       "2        17438.0     90027        13887.0         9169.0        19586.0   \n",
       "3        15828.0     90028        12988.0         9306.0        17425.0   \n",
       "4        26463.0     90033        23416.0        16866.0        21003.0   \n",
       "\n",
       "   Total Avg 392  Population  Median Age  Per Capita Income  \n",
       "0        13643.0     20187.0        32.4            31423.0  \n",
       "1         7357.0     26390.0        30.8            21874.0  \n",
       "2         8709.0     45616.0        38.0            46196.0  \n",
       "3         7162.0     31054.0        34.4            32587.0  \n",
       "4        14192.0     48841.0        30.0            13332.0  "
      ]
     },
     "execution_count": 47,
     "metadata": {},
     "output_type": "execute_result"
    }
   ],
   "source": [
    "Census_Cleaned[\"Zip Code\"] = Census_Cleaned[\"Zip Code\"].astype(int)\n",
    "Medicare_Cost_Total[\"Zip Code\"] = Medicare_Cost_Total[\"Zip Code\"].astype(int)\n",
    "Data = pd.merge(Medicare_Cost_Total, Census_Cleaned, how=\"inner\", on=\"Zip Code\")\n",
    "Data = Data.drop([8])\n",
    "Data[\"Total Avg 817\"] = round(Data[\"Total Avg 817\"], 0)\n",
    "Data.head()"
   ]
  },
  {
   "cell_type": "code",
   "execution_count": 48,
   "metadata": {},
   "outputs": [],
   "source": [
    "Data[\"Total\"] = Data[\"Total Avg 817\"] + Data[\"Total Avg 291\"] + Data[\"Total Avg 872\"] + Data[\"Total Avg 470\"] + Data[\"Total Avg 392\"]"
   ]
  },
  {
   "cell_type": "code",
   "execution_count": 10,
   "metadata": {},
   "outputs": [
    {
     "data": {
      "text/plain": [
       "<function matplotlib.pyplot.show(*args, **kw)>"
      ]
     },
     "execution_count": 10,
     "metadata": {},
     "output_type": "execute_result"
    },
    {
     "data": {
      "image/png": "[encoded data removed]",
      "text/plain": [
       "<Figure size 432x288 with 1 Axes>"
      ]
     },
     "metadata": {
      "needs_background": "light"
     },
     "output_type": "display_data"
    }
   ],
   "source": [
    "slope, intercept, r, p, std_err = st.linregress(Data[\"Median Age\"], Data[\"Total Avg 817\"])\n",
    "\n",
    "plt.scatter(Data[\"Median Age\"], Data[\"Total Avg 817\"], marker=\"o\", color=\"r\")\n",
    "plt.xlabel(\"Age\")\n",
    "plt.title(\"Per Capita Income compared to Average Hospital costs\")\n",
    "plt.ylabel(\"Average Cost\")\n",
    "PCI_Line = slope* Data[\"Median Age\"] + intercept\n",
    "plt.plot(Data[\"Median Age\"], PCI_Line, \"--\")\n",
    "plt.show"
   ]
  },
  {
   "cell_type": "code",
   "execution_count": 11,
   "metadata": {},
   "outputs": [
    {
     "data": {
      "text/plain": [
       "-46.90645115613833"
      ]
     },
     "execution_count": 11,
     "metadata": {},
     "output_type": "execute_result"
    }
   ],
   "source": [
    "slope"
   ]
  },
  {
   "cell_type": "code",
   "execution_count": 12,
   "metadata": {},
   "outputs": [],
   "source": [
    "###Scatter & Linear Regress lines for Data\n",
    "###Box Plot for Data\n",
    "###Presentation\n",
    "###Correlation Coeffecients\n",
    "###\n",
    "###"
   ]
  },
  {
   "cell_type": "code",
   "execution_count": 13,
   "metadata": {},
   "outputs": [
    {
     "name": "stdout",
     "output_type": "stream",
     "text": [
      "0.05\n"
     ]
    }
   ],
   "source": [
    "total_871proc = Data.iloc[:,1]\n",
    "median_age = Data.iloc[:,8]\n",
    "corr_871proc_age = st.pearsonr(median_age, total_871proc)\n",
    "print(round(corr_871proc_age[0],2))"
   ]
  },
  {
   "cell_type": "code",
   "execution_count": 14,
   "metadata": {},
   "outputs": [
    {
     "name": "stdout",
     "output_type": "stream",
     "text": [
      "-0.04\n"
     ]
    }
   ],
   "source": [
    "total_291proc = Data.iloc[:,3]\n",
    "median_age = Data.iloc[:,8]\n",
    "corr_291proc_age = st.pearsonr(median_age, total_291proc)\n",
    "print(round(corr_291proc_age[0],2))"
   ]
  },
  {
   "cell_type": "code",
   "execution_count": 15,
   "metadata": {},
   "outputs": [
    {
     "name": "stdout",
     "output_type": "stream",
     "text": [
      "0.02\n"
     ]
    }
   ],
   "source": [
    "total_872proc = Data.iloc[:,4]\n",
    "median_age = Data.iloc[:,8]\n",
    "corr_872proc_age = st.pearsonr(median_age, total_872proc)\n",
    "print(round(corr_872proc_age[0],2))"
   ]
  },
  {
   "cell_type": "code",
   "execution_count": 16,
   "metadata": {},
   "outputs": [
    {
     "name": "stdout",
     "output_type": "stream",
     "text": [
      "-0.08\n"
     ]
    }
   ],
   "source": [
    "total_470proc = Data.iloc[:,5]\n",
    "median_age = Data.iloc[:,8]\n",
    "corr_470proc_age = st.pearsonr(median_age, total_470proc)\n",
    "print(round(corr_470proc_age[0],2))"
   ]
  },
  {
   "cell_type": "code",
   "execution_count": 17,
   "metadata": {},
   "outputs": [
    {
     "name": "stdout",
     "output_type": "stream",
     "text": [
      "-0.24\n"
     ]
    }
   ],
   "source": [
    "total_392proc = Data.iloc[:,6]\n",
    "median_age = Data.iloc[:,8]\n",
    "corr_392proc_age = st.pearsonr(median_age, total_392proc)\n",
    "print(round(corr_392proc_age[0],2))"
   ]
  },
  {
   "cell_type": "code",
   "execution_count": 18,
   "metadata": {},
   "outputs": [
    {
     "name": "stdout",
     "output_type": "stream",
     "text": [
      "0.13\n"
     ]
    }
   ],
   "source": [
    "population = Data.iloc[:,7]\n",
    "corr_871proc_pop = st.pearsonr(population, total_871proc)\n",
    "print(round(corr_871proc_pop[0],2))"
   ]
  },
  {
   "cell_type": "code",
   "execution_count": 19,
   "metadata": {},
   "outputs": [
    {
     "name": "stdout",
     "output_type": "stream",
     "text": [
      "-0.11\n"
     ]
    }
   ],
   "source": [
    "population = Data.iloc[:,7]\n",
    "corr_291proc_pop = st.pearsonr(population, total_291proc)\n",
    "print(round(corr_291proc_pop[0],2))"
   ]
  },
  {
   "cell_type": "code",
   "execution_count": 20,
   "metadata": {},
   "outputs": [
    {
     "name": "stdout",
     "output_type": "stream",
     "text": [
      "-0.1\n"
     ]
    }
   ],
   "source": [
    "population = Data.iloc[:,7]\n",
    "corr_872proc_pop = st.pearsonr(population, total_872proc)\n",
    "print(round(corr_872proc_pop[0],2))"
   ]
  },
  {
   "cell_type": "code",
   "execution_count": 21,
   "metadata": {},
   "outputs": [
    {
     "name": "stdout",
     "output_type": "stream",
     "text": [
      "-0.16\n"
     ]
    }
   ],
   "source": [
    "population = Data.iloc[:,7]\n",
    "corr_470proc_pop = st.pearsonr(population, total_470proc)\n",
    "print(round(corr_470proc_pop[0],2))"
   ]
  },
  {
   "cell_type": "code",
   "execution_count": 22,
   "metadata": {},
   "outputs": [
    {
     "name": "stdout",
     "output_type": "stream",
     "text": [
      "-0.35\n"
     ]
    }
   ],
   "source": [
    "population = Data.iloc[:,7]\n",
    "corr_392proc_pop = st.pearsonr(population, total_392proc)\n",
    "print(round(corr_392proc_pop[0],2))"
   ]
  },
  {
   "cell_type": "code",
   "execution_count": 23,
   "metadata": {},
   "outputs": [
    {
     "name": "stdout",
     "output_type": "stream",
     "text": [
      "0.1\n"
     ]
    }
   ],
   "source": [
    "capita_income = Data.iloc[:,9]\n",
    "corr_871proc_income = st.pearsonr(capita_income, total_871proc)\n",
    "print(round(corr_871proc_income[0],2))"
   ]
  },
  {
   "cell_type": "code",
   "execution_count": 24,
   "metadata": {},
   "outputs": [
    {
     "name": "stdout",
     "output_type": "stream",
     "text": [
      "0.94\n"
     ]
    }
   ],
   "source": [
    "capita_income = Data.iloc[:,9]\n",
    "corr_291proc_income = st.pearsonr(capita_income, total_291proc)\n",
    "print(round(corr_291proc_income[0],2))"
   ]
  },
  {
   "cell_type": "code",
   "execution_count": 25,
   "metadata": {},
   "outputs": [
    {
     "name": "stdout",
     "output_type": "stream",
     "text": [
      "0.81\n"
     ]
    }
   ],
   "source": [
    "capita_income = Data.iloc[:,9]\n",
    "corr_872proc_income = st.pearsonr(capita_income, total_872proc)\n",
    "print(round(corr_872proc_income[0],2))"
   ]
  },
  {
   "cell_type": "code",
   "execution_count": 26,
   "metadata": {},
   "outputs": [
    {
     "name": "stdout",
     "output_type": "stream",
     "text": [
      "0.93\n"
     ]
    }
   ],
   "source": [
    "capita_income = Data.iloc[:,9]\n",
    "corr_470proc_income = st.pearsonr(capita_income, total_470proc)\n",
    "print(round(corr_470proc_income[0],2))"
   ]
  },
  {
   "cell_type": "code",
   "execution_count": 27,
   "metadata": {},
   "outputs": [
    {
     "data": {
      "text/plain": [
       "Ttest_indResult(statistic=21.94195270604158, pvalue=5.490917123492917e-68)"
      ]
     },
     "execution_count": 27,
     "metadata": {},
     "output_type": "execute_result"
    }
   ],
   "source": [
    "st.ttest_ind(total_871proc, median_age)"
   ]
  },
  {
   "cell_type": "code",
   "execution_count": 29,
   "metadata": {},
   "outputs": [
    {
     "data": {
      "text/plain": [
       "Ttest_indResult(statistic=701.7583053059182, pvalue=0.0)"
      ]
     },
     "execution_count": 29,
     "metadata": {},
     "output_type": "execute_result"
    }
   ],
   "source": [
    "st.ttest_ind(total_871proc, population)"
   ]
  },
  {
   "cell_type": "code",
   "execution_count": 31,
   "metadata": {},
   "outputs": [
    {
     "data": {
      "text/plain": [
       "Ttest_indResult(statistic=21.94195270604158, pvalue=5.490917123492917e-68)"
      ]
     },
     "execution_count": 31,
     "metadata": {},
     "output_type": "execute_result"
    }
   ],
   "source": [
    "st.ttest_ind(total_871proc, capita_income)"
   ]
  },
  {
   "cell_type": "code",
   "execution_count": 32,
   "metadata": {},
   "outputs": [
    {
     "data": {
      "text/plain": [
       "Ttest_indResult(statistic=-20.119937569674242, pvalue=1.4201978490176308e-60)"
      ]
     },
     "execution_count": 32,
     "metadata": {},
     "output_type": "execute_result"
    }
   ],
   "source": [
    "st.ttest_ind(total_291proc, median_age)"
   ]
  },
  {
   "cell_type": "code",
   "execution_count": 33,
   "metadata": {},
   "outputs": [
    {
     "data": {
      "text/plain": [
       "Ttest_indResult(statistic=47.853988483715476, pvalue=1.2340545340901016e-156)"
      ]
     },
     "execution_count": 33,
     "metadata": {},
     "output_type": "execute_result"
    }
   ],
   "source": [
    "st.ttest_ind(total_291proc, population)"
   ]
  },
  {
   "cell_type": "code",
   "execution_count": 34,
   "metadata": {},
   "outputs": [
    {
     "data": {
      "text/plain": [
       "Ttest_indResult(statistic=-47.38096331564146, pvalue=2.5876869984686387e-155)"
      ]
     },
     "execution_count": 34,
     "metadata": {},
     "output_type": "execute_result"
    }
   ],
   "source": [
    "st.ttest_ind(total_291proc, capita_income)"
   ]
  },
  {
   "cell_type": "code",
   "execution_count": 35,
   "metadata": {},
   "outputs": [
    {
     "data": {
      "text/plain": [
       "Ttest_indResult(statistic=-12.445216731087895, pvalue=9.656759258398062e-30)"
      ]
     },
     "execution_count": 35,
     "metadata": {},
     "output_type": "execute_result"
    }
   ],
   "source": [
    "st.ttest_ind(total_872proc, median_age)"
   ]
  },
  {
   "cell_type": "code",
   "execution_count": 36,
   "metadata": {},
   "outputs": [
    {
     "data": {
      "text/plain": [
       "Ttest_indResult(statistic=51.16093748527291, pvalue=1.2968718812604626e-165)"
      ]
     },
     "execution_count": 36,
     "metadata": {},
     "output_type": "execute_result"
    }
   ],
   "source": [
    "st.ttest_ind(total_872proc, population)"
   ]
  },
  {
   "cell_type": "code",
   "execution_count": 37,
   "metadata": {},
   "outputs": [
    {
     "data": {
      "text/plain": [
       "Ttest_indResult(statistic=-38.65617871243671, pvalue=4.244783240826556e-129)"
      ]
     },
     "execution_count": 37,
     "metadata": {},
     "output_type": "execute_result"
    }
   ],
   "source": [
    "st.ttest_ind(total_872proc, capita_income)"
   ]
  },
  {
   "cell_type": "code",
   "execution_count": 38,
   "metadata": {},
   "outputs": [
    {
     "data": {
      "text/plain": [
       "Ttest_indResult(statistic=-22.13357999898727, pvalue=9.222364151131744e-69)"
      ]
     },
     "execution_count": 38,
     "metadata": {},
     "output_type": "execute_result"
    }
   ],
   "source": [
    "st.ttest_ind(total_470proc, median_age)"
   ]
  },
  {
   "cell_type": "code",
   "execution_count": 39,
   "metadata": {},
   "outputs": [
    {
     "data": {
      "text/plain": [
       "Ttest_indResult(statistic=48.75223491670109, pvalue=4.054307173430851e-159)"
      ]
     },
     "execution_count": 39,
     "metadata": {},
     "output_type": "execute_result"
    }
   ],
   "source": [
    "st.ttest_ind(total_470proc, population)"
   ]
  },
  {
   "cell_type": "code",
   "execution_count": 40,
   "metadata": {},
   "outputs": [
    {
     "data": {
      "text/plain": [
       "Ttest_indResult(statistic=-49.62913896902466, pvalue=1.6444441976170682e-161)"
      ]
     },
     "execution_count": 40,
     "metadata": {},
     "output_type": "execute_result"
    }
   ],
   "source": [
    "st.ttest_ind(total_470proc, capita_income)"
   ]
  },
  {
   "cell_type": "code",
   "execution_count": null,
   "metadata": {},
   "outputs": [],
   "source": []
  }
 ],
 "metadata": {
  "kernelspec": {
   "display_name": "Python 3",
   "language": "python",
   "name": "python3"
  },
  "language_info": {
   "codemirror_mode": {
    "name": "ipython",
    "version": 3
   },
   "file_extension": ".py",
   "mimetype": "text/x-python",
   "name": "python",
   "nbconvert_exporter": "python",
   "pygments_lexer": "ipython3",
   "version": "3.7.6"
  }
 },
 "nbformat": 4,
 "nbformat_minor": 4
}
