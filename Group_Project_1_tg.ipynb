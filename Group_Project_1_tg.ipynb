{
 "cells": [
  {
   "cell_type": "code",
   "execution_count": null,
   "metadata": {},
   "outputs": [],
   "source": [
    "import numpy as np\n",
    "import pandas as pd\n",
    "import matplotlib.pyplot as plt\n",
    "import requests\n",
    "from scipy import stats as st\n",
    "from census import Census\n",
    "from config import api_key\n",
    "c = Census(api_key, year=2017)\n",
    "#!pip install census\n",
    "Medicare_file = \"medicare_charges.csv\""
   ]
  },
  {
   "cell_type": "code",
   "execution_count": null,
   "metadata": {},
   "outputs": [],
   "source": [
    "census_data = c.acs5.get((\"NAME\", \"B19013_001E\", \n",
    "                          \"B01003_001E\", \n",
    "                          \"B01002_001E\",\n",
    "                          \"B19301_001E\",\n",
    "                          \"B17001_002E\",\n",
    "                          \"B23025_005E\",\n",
    "                         \"B25077_001E\",\n",
    "                         \"B15003_022E\"), {'for': 'zip code tabulation area:*'})\n",
    "\n",
    "# Convert to DataFrame\n",
    "census_pd = pd.DataFrame(census_data)\n",
    "\n",
    "# Column Reordering\n",
    "census_pd = census_pd.rename(columns={\"B01003_001E\": \"Population\",\n",
    "                                      \"B01002_001E\": \"Median Age\",\n",
    "                                      \"B19013_001E\": \"Household Income\",\n",
    "                                      \"B19301_001E\": \"Per Capita Income\",\n",
    "                                      \"B17001_002E\": \"Poverty Count\",\n",
    "                                      \"B23025_005E\": \"Unemployment Count\",\n",
    "                                      \"B25077_001E\": \"Median Home Value\",\n",
    "                                      \"B15003_022E\": \"Bachelor Count\",\n",
    "                                      \"NAME\": \"Name\", \"zip code tabulation area\": \"Zip Code\"})\n",
    "Census_Cleaned = census_pd[[\"Population\",\n",
    "                            \"Median Age\",\n",
    "                            \"Per Capita Income\",\n",
    "                            \"Zip Code\"]]\n",
    "Census_Cleaned = Census_Cleaned.dropna()\n",
    "Census_Cleaned.head(10)"
   ]
  },
  {
   "cell_type": "code",
   "execution_count": null,
   "metadata": {},
   "outputs": [],
   "source": [
    "print(len(Census_Cleaned[\"Zip Code\"]))\n"
   ]
  },
  {
   "cell_type": "code",
   "execution_count": null,
   "metadata": {},
   "outputs": [],
   "source": [
    "Medicare_Cost_df = pd.read_csv(Medicare_file)\n",
    "Medicare_Cost_Cleaned = Medicare_Cost_df[[\"Provider Zip Code\",\n",
    "                                          \"Provider State\", \n",
    "                                          \"DRG Definition\",\n",
    "                                          \"Total Discharges\",\n",
    "                                          \"Average Total Payments\"]]\n",
    "Medicare_Cost_Cleaned = Medicare_Cost_Cleaned.rename(columns = {\"Provider Zip Code\":\"Zip Code\",\n",
    "                                                               \"Provider State\":\"State\",\n",
    "                                                               \"DRG Definition\":\"Procedure\",\n",
    "                                                               \"Average Total Payments\": \"Cost\"})\n",
    "Medicare_Cost_df.head()\n",
    "#print(len(Medicare_Cost_df))"
   ]
  },
  {
   "cell_type": "code",
   "execution_count": null,
   "metadata": {},
   "outputs": [],
   "source": [
    "Medicare_Cost_Cleaned = Medicare_Cost_Cleaned[Medicare_Cost_Cleaned.State == \"CA\"]\n",
    "Medicare_Cost_871 = Medicare_Cost_Cleaned[Medicare_Cost_Cleaned.Procedure == \"871 - SEPTICEMIA OR SEVERE SEPSIS W/O MV >96 HOURS W MCC\"]\n",
    "Medicare_Cost_871 = Medicare_Cost_871.groupby(\"Zip Code\").mean()\n",
    "Medicare_Cost_871[\"Zip Code\"] = Medicare_Cost_871.index\n",
    "#Medicare_Cost_871reset_index(drop = True , inplace = True)\n",
    "\n",
    "\n",
    "Medicare_Cost_Total = Medicare_Cost_871.rename(columns = {\"Cost\":\"Total Avg 871\"})\n",
    "\n",
    "#Medicare_Cost_Total[\"Total Avg 871] = Medicare_Cost_Cleaned[Medicare_Cost_Cleaned.Procedure == \"871 - SEPTICEMIA OR SEVERE SEPSIS W/O MV >96 HOURS W MCC\"].groupby(\"Zip Code\").mean()[\"Cost\"]\n",
    "Medicare_Cost_Total[\"Total Avg 291\"] = round(Medicare_Cost_Cleaned[Medicare_Cost_Cleaned.Procedure == \"291 - HEART FAILURE & SHOCK W MCC\"].groupby(\"Zip Code\").mean()[\"Cost\"], 0)\n",
    "Medicare_Cost_Total[\"Total Avg 872\"] = round(Medicare_Cost_Cleaned[Medicare_Cost_Cleaned.Procedure == \"872 - SEPTICEMIA OR SEVERE SEPSIS W/O MV >96 HOURS W/O MCC\"].groupby(\"Zip Code\").mean()[\"Cost\"], 0)\n",
    "Medicare_Cost_Total[\"Total Avg 470\"] = round(Medicare_Cost_Cleaned[Medicare_Cost_Cleaned.Procedure == \"470 - MAJOR JOINT REPLACEMENT OR REATTACHMENT OF LOWER EXTREMITY W/O MCC\"].groupby(\"Zip Code\").mean()[\"Cost\"], 0)\n",
    "Medicare_Cost_Total[\"Total Avg 392\"] = round(Medicare_Cost_Cleaned[Medicare_Cost_Cleaned.Procedure == \"392 - ESOPHAGITIS, GASTROENT & MISC DIGEST DISORDERS W/O MCC\"].groupby(\"Zip Code\").mean()[\"Cost\"], 0)\n",
    "\n",
    "Medicare_Cost_Total[\"Total Avg 871\"] = round(Medicare_Cost_Total[\"Total Avg 871\"], 0)\n",
    "\n",
    "Medicare_Cost_Total = Medicare_Cost_Total.dropna()\n",
    "Medicare_Cost_Total.reset_index(drop = True , inplace = True)\n",
    "Medicare_Cost_Total\n"
   ]
  },
  {
   "cell_type": "code",
   "execution_count": null,
   "metadata": {},
   "outputs": [],
   "source": [
    "top_5 = Medicare_Cost_Cleaned[\"Procedure\"].value_counts()[:5].index.tolist()\n",
    "counts = []\n",
    "for x in top_5:\n",
    "    count = Medicare_Cost_Cleaned.loc[Medicare_Cost_Cleaned[\"Procedure\"]==x][\"Total Discharges\"].count()\n",
    "    counts.append(count)\n",
    "    \n",
    "count_df = pd.DataFrame({\"Procedure\": top_5, \"Count\": counts},index=['871', '291', '872', '470', '392']).head()\n",
    "count_df"
   ]
  },
  {
   "cell_type": "code",
   "execution_count": null,
   "metadata": {},
   "outputs": [],
   "source": [
    "# bar chart showing top 5 most common procedures\n",
    "count_plot = count_df.plot(kind=\"bar\", rot=0, title='Top 5 Most Frequent Diagnoses')\n",
    "plt.xlabel(\"Procedures\")\n",
    "plt.ylabel(\"Count of Hospitals\")\n",
    "plt.ylim(0, max(counts)+50)\n",
    "count_plot\n",
    "plt.savefig('Top 5 Diagnoses')"
   ]
  },
  {
   "cell_type": "code",
   "execution_count": null,
   "metadata": {},
   "outputs": [],
   "source": [
    "Census_Cleaned[\"Zip Code\"] = Census_Cleaned[\"Zip Code\"].astype(int)\n",
    "Medicare_Cost_Total[\"Zip Code\"] = Medicare_Cost_Total[\"Zip Code\"].astype(int)\n",
    "merged_df = pd.merge(Medicare_Cost_Total, Census_Cleaned, how=\"inner\", on=\"Zip Code\")\n",
    "merged_df = merged_df.drop([8])\n",
    "merged_df.head()"
   ]
  },
  {
   "cell_type": "code",
   "execution_count": null,
   "metadata": {},
   "outputs": [],
   "source": [
    "def boxplot(data):\n",
    "    data_quartiles = data.quantile([.25,.5,.75])\n",
    "    data_lowerq = data_quartiles[0.25]\n",
    "    data_upperq = data_quartiles[0.75]\n",
    "    data_iqr = data_upperq-data_lowerq\n",
    "    data_lower_bound = data_lowerq - (1.5*data_iqr)\n",
    "    data_upper_bound = data_upperq + (1.5*data_iqr)"
   ]
  },
  {
   "cell_type": "code",
   "execution_count": null,
   "metadata": {},
   "outputs": [],
   "source": [
    "age = merged_df[\"Median Age\"]\n",
    "boxplot(age)\n",
    "plt.boxplot(age)\n",
    "plt.show()\n",
    "plt.savefig('Median Age Boxplot with Outliers.png')"
   ]
  },
  {
   "cell_type": "code",
   "execution_count": null,
   "metadata": {},
   "outputs": [],
   "source": [
    "pop = merged_df[\"Population\"]\n",
    "boxplot(pop)\n",
    "plt.boxplot(pop)\n",
    "plt.show()\n",
    "plt.savefig('Population Boxplot with Outliers.png')"
   ]
  },
  {
   "cell_type": "code",
   "execution_count": null,
   "metadata": {},
   "outputs": [],
   "source": [
    "income = merged_df[\"Per Capita Income\"]\n",
    "boxplot(income)\n",
    "plt.boxplot(income)\n",
    "plt.show()\n",
    "plt.savefig('Per Capita Income Boxplot with Outliers.png')"
   ]
  },
  {
   "cell_type": "code",
   "execution_count": null,
   "metadata": {},
   "outputs": [],
   "source": [
    "drg_871 = merged_df[\"Total Avg 871\"]\n",
    "drg_291 = merged_df[\"Total Avg 291\"]\n",
    "drg_872 = merged_df[\"Total Avg 872\"]\n",
    "drg_470 = merged_df[\"Total Avg 470\"]\n",
    "drg_392 = merged_df[\"Total Avg 392\"]\n",
    "\n",
    "drg_871_quartiles = drg_871.quantile([.25,.5,.75])\n",
    "drg_871_lowerq = drg_871_quartiles[0.25]\n",
    "drg_871_upperq = drg_871_quartiles[0.75]\n",
    "drg_871_iqr = drg_871_upperq-drg_871_lowerq\n",
    "drg_871_lower_bound = drg_871_lowerq - (1.5*drg_871_iqr)\n",
    "drg_871_upper_bound = drg_871_upperq + (1.5*drg_871_iqr)\n",
    "\n",
    "drg_291_quartiles = drg_291.quantile([.25,.5,.75])\n",
    "drg_291_lowerq = drg_291_quartiles[0.25]\n",
    "drg_291_upperq = drg_291_quartiles[0.75]\n",
    "drg_291_iqr = drg_291_upperq-drg_291_lowerq\n",
    "drg_291_lower_bound = drg_291_lowerq - (1.5*drg_291_iqr)\n",
    "drg_291_upper_bound = drg_291_upperq + (1.5*drg_291_iqr)\n",
    "\n",
    "drg_872_quartiles = drg_872.quantile([.25,.5,.75])\n",
    "drg_872_lowerq = drg_872_quartiles[0.25]\n",
    "drg_872_upperq = drg_872_quartiles[0.75]\n",
    "drg_872_iqr = drg_872_upperq-drg_872_lowerq\n",
    "drg_872_lower_bound = drg_872_lowerq - (1.5*drg_872_iqr)\n",
    "drg_872_upper_bound = drg_872_upperq + (1.5*drg_872_iqr)\n",
    "\n",
    "drg_470_quartiles = drg_470.quantile([.25,.5,.75])\n",
    "drg_470_lowerq = drg_470_quartiles[0.25]\n",
    "drg_470_upperq = drg_470_quartiles[0.75]\n",
    "drg_470_iqr = drg_470_upperq-drg_470_lowerq\n",
    "drg_470_lower_bound = drg_470_lowerq - (1.5*drg_470_iqr)\n",
    "drg_470_upper_bound = drg_470_upperq + (1.5*drg_470_iqr)\n",
    "\n",
    "drg_392_quartiles = drg_392.quantile([.25,.5,.75])\n",
    "drg_392_lowerq = drg_392_quartiles[0.25]\n",
    "drg_392_upperq = drg_392_quartiles[0.75]\n",
    "drg_392_iqr = drg_392_upperq-drg_392_lowerq\n",
    "drg_392_lower_bound = drg_392_lowerq - (1.5*drg_392_iqr)\n",
    "drg_392_upper_bound = drg_392_upperq + (1.5*drg_392_iqr)\n",
    "\n",
    "plot_data = [drg_871, drg_291, drg_872, drg_470, drg_392]\n",
    "fig = plt.figure(1, figsize=(9, 6))\n",
    "ax = fig.add_subplot(111)\n",
    "ax.boxplot(plot_data)\n",
    "ax.set_xticklabels(['DRG 871', 'DRG 291', 'DRG 872', 'DRG 470'])\n",
    "plt.ylabel(\"Average Cost\")\n",
    "plt.show()\n",
    "plt.savefig('Top 5 DRG Boxplot with Outliers.png')"
   ]
  },
  {
   "cell_type": "code",
   "execution_count": null,
   "metadata": {},
   "outputs": [],
   "source": [
    "out_871 = merged_df.loc[(merged_df[\"Total Avg 871\"]<drg_871_upper_bound)]\n",
    "out_291 = out_871.loc[(out_871[\"Total Avg 291\"]<drg_291_upper_bound)]\n",
    "out_872 = out_291.loc[(out_291[\"Total Avg 872\"]<drg_872_upper_bound)]\n",
    "out_470 = out_872.loc[(out_872[\"Total Avg 470\"]<drg_470_upper_bound)]\n",
    "Data = out_470.loc[(out_470[\"Total Avg 392\"]<drg_392_upper_bound)]\n",
    "Data"
   ]
  },
  {
   "cell_type": "code",
   "execution_count": null,
   "metadata": {},
   "outputs": [],
   "source": [
    "def boxplot_clean(x):\n",
    "    x_quartiles = x.quantile([.25,.5,.75])\n",
    "    x_lowerq = x_quartiles[0.25]\n",
    "    x_upperq = x_quartiles[0.75]\n",
    "    x_iqr = x_upperq-x_lowerq\n",
    "    x_lower_bound = x_lowerq - (1.5*x_iqr)\n",
    "    x_upper_bound = x_upperq + (1.5*x_iqr)\n",
    "    \n",
    "clean_871 = Data[\"Total Avg 871\"]\n",
    "clean_291 = Data[\"Total Avg 291\"]\n",
    "clean_872 = Data[\"Total Avg 872\"]\n",
    "clean_470 = Data[\"Total Avg 470\"]\n",
    "clean_392 = Data[\"Total Avg 392\"]\n",
    "\n",
    "boxplot_clean(clean_871)\n",
    "boxplot_clean(clean_291)\n",
    "boxplot_clean(clean_872)\n",
    "boxplot_clean(clean_470)\n",
    "boxplot_clean(clean_392)"
   ]
  },
  {
   "cell_type": "code",
   "execution_count": null,
   "metadata": {},
   "outputs": [],
   "source": [
    "plot_data = [clean_871, clean_291, clean_872, clean_470, clean_392]\n",
    "fig = plt.figure(1, figsize=(9, 6))\n",
    "ax = fig.add_subplot(111)\n",
    "ax.boxplot(plot_data)\n",
    "ax.set_xticklabels(['DRG 871', 'DRG 291', 'DRG 872', 'DRG 470', 'DRG 392'])\n",
    "plt.ylabel(\"Average Cost\")\n",
    "plt.show()\n",
    "plt.savefig('Top 5 DRG Boxplot.png')"
   ]
  },
  {
   "cell_type": "code",
   "execution_count": null,
   "metadata": {},
   "outputs": [],
   "source": [
    "Data[\"Total\"] = Data[\"Total Avg 871\"] + Data[\"Total Avg 291\"] + Data[\"Total Avg 872\"] + Data[\"Total Avg 470\"] + Data[\"Total Avg 392\"]"
   ]
  },
  {
   "cell_type": "code",
   "execution_count": null,
   "metadata": {},
   "outputs": [],
   "source": [
    "def Scatter (x, y):\n",
    "    slope, intercept, r, p, std_err = st.linregress(Data[x], Data[y])\n",
    "    plt.scatter(Data[x], Data[y], marker=\"o\", color=\"blue\", alpha = 0.25)\n",
    "    plt.xlabel(x)\n",
    "    plt.title(f\"{x} compared to Average Hospital costs\")\n",
    "    plt.ylabel(\"Average Cost\")\n",
    "    PCI_Line = slope* Data[x] + intercept\n",
    "    plt.plot(Data[x], PCI_Line, \"r-\")\n",
    "    \n",
    "    \n",
    "    \n",
    "    total_y = Data.iloc[:,1]\n",
    "    total_x = Data.iloc[:,8]\n",
    "    corr = st.pearsonr(total_x, total_y)\n",
    "    #plt.annotate(f\"The r value is {round(corr[0], 2)}\", ,fontsize=15,color=\"b\")\n",
    "    #plt.annotate(f\"The p value is {round(corr[1], 2)}\",loc = \"best\",fontsize=15,color=\"b\")\n",
    "    \n",
    "    plt.show\n",
    "Scatter_Age_871 = Scatter(\"Median Age\", \"Total Avg 871\")\n",
    "plt.savefig(\"Scatter_Age_871.PNG\")"
   ]
  },
  {
   "cell_type": "code",
   "execution_count": null,
   "metadata": {},
   "outputs": [],
   "source": [
    "st.pearsonr?"
   ]
  },
  {
   "cell_type": "code",
   "execution_count": null,
   "metadata": {},
   "outputs": [],
   "source": [
    "Scatter_PCI = Scatter(\"Per Capita Income\")\n",
    "plt.savefig(\"Scatter_PCI.PNG\")"
   ]
  },
  {
   "cell_type": "code",
   "execution_count": null,
   "metadata": {},
   "outputs": [],
   "source": [
    "Scatter_Pop = Scatter(\"Population\")\n",
    "plt.savefig(\"Scatter_Pop.PNG\")"
   ]
  },
  {
   "cell_type": "code",
   "execution_count": null,
   "metadata": {},
   "outputs": [],
   "source": [
    "slope"
   ]
  },
  {
   "cell_type": "code",
   "execution_count": null,
   "metadata": {},
   "outputs": [],
   "source": [
    "###Scatter & Linear Regress lines for Data\n",
    "###Box Plot for Data\n",
    "###Presentation\n",
    "###Correlation Coeffecients\n",
    "###\n",
    "###"
   ]
  },
  {
   "cell_type": "code",
   "execution_count": null,
   "metadata": {},
   "outputs": [],
   "source": [
    "total_871proc = Data.iloc[:,1]\n",
    "median_age = Data.iloc[:,8]\n",
    "corr_871proc_age = st.pearsonr(median_age, total_871proc)\n",
    "print(round(corr_871proc_age[0],2))"
   ]
  },
  {
   "cell_type": "code",
   "execution_count": null,
   "metadata": {},
   "outputs": [],
   "source": [
    "total_291proc = Data.iloc[:,3]\n",
    "median_age = Data.iloc[:,8]\n",
    "corr_291proc_age = st.pearsonr(median_age, total_291proc)\n",
    "print(round(corr_291proc_age[0],2))"
   ]
  },
  {
   "cell_type": "code",
   "execution_count": null,
   "metadata": {},
   "outputs": [],
   "source": [
    "total_872proc = Data.iloc[:,4]\n",
    "median_age = Data.iloc[:,8]\n",
    "corr_872proc_age = st.pearsonr(median_age, total_872proc)\n",
    "print(round(corr_872proc_age[0],2))"
   ]
  },
  {
   "cell_type": "code",
   "execution_count": null,
   "metadata": {},
   "outputs": [],
   "source": [
    "total_470proc = Data.iloc[:,5]\n",
    "median_age = Data.iloc[:,8]\n",
    "corr_470proc_age = st.pearsonr(median_age, total_470proc)\n",
    "print(round(corr_470proc_age[0],2))"
   ]
  },
  {
   "cell_type": "code",
   "execution_count": null,
   "metadata": {},
   "outputs": [],
   "source": [
    "total_392proc = Data.iloc[:,6]\n",
    "median_age = Data.iloc[:,8]\n",
    "corr_392proc_age = st.pearsonr(median_age, total_392proc)\n",
    "print(round(corr_392proc_age[0],2))"
   ]
  },
  {
   "cell_type": "code",
   "execution_count": null,
   "metadata": {},
   "outputs": [],
   "source": [
    "population = Data.iloc[:,7]\n",
    "corr_871proc_pop = st.pearsonr(population, total_871proc)\n",
    "print(round(corr_871proc_pop[0],2))"
   ]
  },
  {
   "cell_type": "code",
   "execution_count": null,
   "metadata": {},
   "outputs": [],
   "source": [
    "population = Data.iloc[:,7]\n",
    "corr_291proc_pop = st.pearsonr(population, total_291proc)\n",
    "print(round(corr_291proc_pop[0],2))"
   ]
  },
  {
   "cell_type": "code",
   "execution_count": null,
   "metadata": {},
   "outputs": [],
   "source": [
    "population = Data.iloc[:,7]\n",
    "corr_872proc_pop = st.pearsonr(population, total_872proc)\n",
    "print(round(corr_872proc_pop[0],2))"
   ]
  },
  {
   "cell_type": "code",
   "execution_count": null,
   "metadata": {},
   "outputs": [],
   "source": [
    "population = Data.iloc[:,7]\n",
    "corr_470proc_pop = st.pearsonr(population, total_470proc)\n",
    "print(round(corr_470proc_pop[0],2))"
   ]
  },
  {
   "cell_type": "code",
   "execution_count": null,
   "metadata": {},
   "outputs": [],
   "source": [
    "population = Data.iloc[:,7]\n",
    "corr_392proc_pop = st.pearsonr(population, total_392proc)\n",
    "print(round(corr_392proc_pop[0],2))"
   ]
  },
  {
   "cell_type": "code",
   "execution_count": null,
   "metadata": {},
   "outputs": [],
   "source": [
    "capita_income = Data.iloc[:,9]\n",
    "corr_871proc_income = st.pearsonr(capita_income, total_871proc)\n",
    "print(round(corr_871proc_income[0],2))"
   ]
  },
  {
   "cell_type": "code",
   "execution_count": null,
   "metadata": {},
   "outputs": [],
   "source": [
    "capita_income = Data.iloc[:,9]\n",
    "corr_291proc_income = st.pearsonr(capita_income, total_291proc)\n",
    "print(round(corr_291proc_income[0],2))"
   ]
  },
  {
   "cell_type": "code",
   "execution_count": null,
   "metadata": {},
   "outputs": [],
   "source": [
    "capita_income = Data.iloc[:,9]\n",
    "corr_872proc_income = st.pearsonr(capita_income, total_872proc)\n",
    "print(round(corr_872proc_income[0],2))"
   ]
  },
  {
   "cell_type": "code",
   "execution_count": null,
   "metadata": {},
   "outputs": [],
   "source": [
    "capita_income = Data.iloc[:,9]\n",
    "corr_470proc_income = st.pearsonr(capita_income, total_470proc)\n",
    "print(round(corr_470proc_income[0],2))"
   ]
  },
  {
   "cell_type": "code",
   "execution_count": null,
   "metadata": {},
   "outputs": [],
   "source": [
    "st.ttest_ind(total_871proc, median_age)"
   ]
  },
  {
   "cell_type": "code",
   "execution_count": null,
   "metadata": {},
   "outputs": [],
   "source": [
    "st.ttest_ind(total_871proc, population)"
   ]
  },
  {
   "cell_type": "code",
   "execution_count": null,
   "metadata": {},
   "outputs": [],
   "source": [
    "st.ttest_ind(total_871proc, capita_income)"
   ]
  },
  {
   "cell_type": "code",
   "execution_count": null,
   "metadata": {},
   "outputs": [],
   "source": [
    "st.ttest_ind(total_291proc, median_age)"
   ]
  },
  {
   "cell_type": "code",
   "execution_count": null,
   "metadata": {},
   "outputs": [],
   "source": [
    "st.ttest_ind(total_291proc, population)"
   ]
  },
  {
   "cell_type": "code",
   "execution_count": null,
   "metadata": {},
   "outputs": [],
   "source": [
    "st.ttest_ind(total_291proc, capita_income)"
   ]
  },
  {
   "cell_type": "code",
   "execution_count": null,
   "metadata": {},
   "outputs": [],
   "source": [
    "st.ttest_ind(total_872proc, median_age)"
   ]
  },
  {
   "cell_type": "code",
   "execution_count": null,
   "metadata": {},
   "outputs": [],
   "source": [
    "st.ttest_ind(total_872proc, population)"
   ]
  },
  {
   "cell_type": "code",
   "execution_count": null,
   "metadata": {},
   "outputs": [],
   "source": [
    "st.ttest_ind(total_872proc, capita_income)"
   ]
  },
  {
   "cell_type": "code",
   "execution_count": null,
   "metadata": {},
   "outputs": [],
   "source": [
    "st.ttest_ind(total_470proc, median_age)"
   ]
  },
  {
   "cell_type": "code",
   "execution_count": null,
   "metadata": {},
   "outputs": [],
   "source": [
    "st.ttest_ind(total_470proc, population)"
   ]
  },
  {
   "cell_type": "code",
   "execution_count": null,
   "metadata": {},
   "outputs": [],
   "source": [
    "st.ttest_ind(total_470proc, capita_income)"
   ]
  },
  {
   "cell_type": "code",
   "execution_count": null,
   "metadata": {},
   "outputs": [],
   "source": []
  },
  {
   "cell_type": "code",
   "execution_count": null,
   "metadata": {},
   "outputs": [],
   "source": []
  },
  {
   "cell_type": "code",
   "execution_count": null,
   "metadata": {},
   "outputs": [],
   "source": []
  }
 ],
 "metadata": {
  "kernelspec": {
   "display_name": "Python 3",
   "language": "python",
   "name": "python3"
  },
  "language_info": {
   "codemirror_mode": {
    "name": "ipython",
    "version": 3
   },
   "file_extension": ".py",
   "mimetype": "text/x-python",
   "name": "python",
   "nbconvert_exporter": "python",
   "pygments_lexer": "ipython3",
   "version": "3.7.4"
  }
 },
 "nbformat": 4,
 "nbformat_minor": 4
}
